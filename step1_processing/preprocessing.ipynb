{
 "cells": [
  {
   "cell_type": "code",
   "execution_count": 15,
   "metadata": {},
   "outputs": [],
   "source": [
    "import jieba\n",
    "import pandas as pd\n",
    "import numpy as np\n",
    "from matplotlib import pyplot as plt\n",
    "import WikiExtractor"
   ]
  },
  {
   "cell_type": "code",
   "execution_count": 16,
   "metadata": {},
   "outputs": [],
   "source": [
    "# 读取停用词表\n",
    "stop_lst = []\n",
    "with open(\"stopwords.txt\", encoding = 'UTF-8') as f:\n",
    "    for line in f:\n",
    "        stop_lst.append(line.strip())\n",
    "f.close()"
   ]
  },
  {
   "cell_type": "code",
   "execution_count": 17,
   "metadata": {},
   "outputs": [],
   "source": [
    "# 数据清洗\n",
    "def cut2(x):\n",
    "    segs = []\n",
    "    for word in jieba.cut(x):\n",
    "        if word not in stop_lst:\n",
    "            segs.append(word)\n",
    "    return segs"
   ]
  },
  {
   "cell_type": "code",
   "execution_count": 18,
   "metadata": {},
   "outputs": [],
   "source": [
    "# 切分\n",
    "def cut(x):\n",
    "    return ' '.join(jieba.cut(x))"
   ]
  },
  {
   "cell_type": "code",
   "execution_count": 13,
   "metadata": {},
   "outputs": [
    {
     "data": {
      "text/plain": [
       "'无 额外 依赖 ， 安装 和 使用 都 非常 方便'"
      ]
     },
     "execution_count": 13,
     "metadata": {},
     "output_type": "execute_result"
    }
   ],
   "source": [
    "cut('无额外依赖，安装和使用都非常方便')"
   ]
  },
  {
   "cell_type": "code",
   "execution_count": 28,
   "metadata": {},
   "outputs": [
    {
     "name": "stderr",
     "output_type": "stream",
     "text": [
      "/Applications/anaconda3/lib/python3.7/site-packages/ipykernel_launcher.py:4: FutureWarning: The signature of `Series.to_csv` was aligned to that of `DataFrame.to_csv`, and argument 'header' will change its default value from False to True: please pass an explicit value to suppress this warning.\n",
      "  after removing the cwd from sys.path.\n"
     ]
    },
    {
     "name": "stdout",
     "output_type": "stream",
     "text": [
      "(89611,)\n"
     ]
    }
   ],
   "source": [
    "news = pd.read_csv('sqlResult_1558435.csv', encoding = 'gb18030')        # 读取语料\n",
    "news = pd.DataFrame(news['content'].astype(str))        # 转类型，防止训练时报错\n",
    "news['seg'] = news['content'].apply(cut)        # 切分\n",
    "news['seg'].to_csv('articles_after_segs.txt', sep='\\t', index=False)    # 保存切分后的文本\n",
    "print(news['seg'].shape)"
   ]
  },
  {
   "cell_type": "code",
   "execution_count": 29,
   "metadata": {},
   "outputs": [],
   "source": [
    "from gensim.test.utils import common_texts, get_tmpfile\n",
    "from gensim.models import Word2Vec, word2vec"
   ]
  },
  {
   "cell_type": "code",
   "execution_count": 30,
   "metadata": {},
   "outputs": [],
   "source": [
    "path = get_tmpfile(\"word2vec.model\")        # 创建临时文件\n",
    "sentences = word2vec.LineSentence('articles_after_segs.txt')        # 读取预料\n",
    "model = Word2Vec(sentences, size=100, window=5, min_count=3, workers=4)        # 训练模型\n",
    "model.save(\"word2vec.model\")         # 保存模型\n",
    "model.wv.save_word2vec_format('word2vec_format.txt')        # 将词向量以文本形式输出"
   ]
  },
  {
   "cell_type": "code",
   "execution_count": 33,
   "metadata": {},
   "outputs": [],
   "source": [
    "# 测试线性相关性\n",
    "def analogy(x1, x2, y1):\n",
    "    results = model.most_similar(positive = [y1, x2], negative = [x1])\n",
    "    return results[0][0]"
   ]
  },
  {
   "cell_type": "code",
   "execution_count": null,
   "metadata": {},
   "outputs": [],
   "source": [
    "# model  = Word2Vec.load(\"word2vec.model\")        # 加载已生成的模型"
   ]
  },
  {
   "cell_type": "code",
   "execution_count": 35,
   "metadata": {},
   "outputs": [
    {
     "name": "stdout",
     "output_type": "stream",
     "text": [
      "[ 1.2978063   2.6064162  -2.332619   -0.57071877 -0.320048   -2.0576591\n",
      " -1.3851141  -0.42319807 -1.9019232   1.4114864   1.3061066   0.23547393\n",
      " -1.6191466  -0.5653941  -2.2620535   1.9745442   0.59777    -1.2853051\n",
      "  0.8380661  -1.7132071   1.3818291  -1.4071718  -0.29351586  1.495115\n",
      " -0.28616434 -3.0190885   0.24029952 -1.3321489   0.8075312  -0.9078932\n",
      " -1.2885839   1.0601299   2.3225062  -0.9289253  -0.43842074 -2.9654613\n",
      " -0.09909485  0.6485282  -0.28908855  0.07933731 -0.10842301 -0.2648251\n",
      " -0.78850645 -1.4163364  -0.43824238 -1.8562491  -2.1682348   0.24986763\n",
      " -1.0223593  -0.33955255  1.149272   -1.3910553   1.7697997  -0.6296932\n",
      " -0.37255365 -0.72669876  3.9547708  -1.1725627  -0.05293956 -0.07772388\n",
      " -1.8258156  -0.32077938  0.42504543  0.01664756  1.5579945   0.6566446\n",
      "  0.56389356 -1.6125147  -3.012735   -2.4776838   0.5371164   0.6330763\n",
      " -1.3960207   1.782439   -1.408616   -0.17154063 -2.385721   -0.7745727\n",
      " -1.3099456   0.472981   -0.7413956  -1.898522   -0.4192785   0.03600455\n",
      "  3.1569097  -1.4358277  -0.2279953   1.1575774   2.2769701  -1.3901179\n",
      " -0.2745843  -0.17491464 -0.53995806  0.6208306   0.00955845  0.61327505\n",
      "  0.21452338  0.7281755   0.26863092 -0.7731468 ]\n",
      "英语\n",
      "特朗普\n",
      "[('郑州', 0.8520909547805786), ('成都', 0.8159931302070618), ('厦门', 0.8119611740112305), ('银川', 0.8097251653671265), ('长沙', 0.8020535707473755), ('昆明', 0.7830049395561218), ('武汉', 0.7823408842086792), ('重庆', 0.7740964293479919), ('哈尔滨', 0.7675884962081909), ('杭州', 0.7671486139297485)]\n",
      "0.68216443 0.68216443\n"
     ]
    },
    {
     "name": "stderr",
     "output_type": "stream",
     "text": [
      "/Applications/anaconda3/lib/python3.7/site-packages/ipykernel_launcher.py:1: DeprecationWarning: Call to deprecated `__getitem__` (Method will be removed in 4.0.0, use self.wv.__getitem__() instead).\n",
      "  \"\"\"Entry point for launching an IPython kernel.\n",
      "/Applications/anaconda3/lib/python3.7/site-packages/ipykernel_launcher.py:3: DeprecationWarning: Call to deprecated `most_similar` (Method will be removed in 4.0.0, use self.wv.most_similar() instead).\n",
      "  This is separate from the ipykernel package so we can avoid doing imports until\n",
      "/Applications/anaconda3/lib/python3.7/site-packages/ipykernel_launcher.py:4: DeprecationWarning: Call to deprecated `most_similar` (Method will be removed in 4.0.0, use self.wv.most_similar() instead).\n",
      "  after removing the cwd from sys.path.\n",
      "/Applications/anaconda3/lib/python3.7/site-packages/ipykernel_launcher.py:5: DeprecationWarning: Call to deprecated `similarity` (Method will be removed in 4.0.0, use self.wv.similarity() instead).\n",
      "  \"\"\"\n"
     ]
    }
   ],
   "source": [
    "# 测试训练结果\n",
    "print(model['西安'])\n",
    "print(analogy(\"中国\",\"汉语\",\"美国\"))\n",
    "print(analogy(\"美国\",\"奥巴马\",\"美国\"))\n",
    "print(model.most_similar(\"西安\"))\n",
    "print(model.similarity(\"西安\",\"陕西\"), model.similarity(\"陕西\",\"西安\"))"
   ]
  },
  {
   "cell_type": "code",
   "execution_count": null,
   "metadata": {},
   "outputs": [],
   "source": []
  }
 ],
 "metadata": {
  "kernelspec": {
   "display_name": "Python 3",
   "language": "python",
   "name": "python3"
  },
  "language_info": {
   "codemirror_mode": {
    "name": "ipython",
    "version": 3
   },
   "file_extension": ".py",
   "mimetype": "text/x-python",
   "name": "python",
   "nbconvert_exporter": "python",
   "pygments_lexer": "ipython3",
   "version": "3.7.3"
  }
 },
 "nbformat": 4,
 "nbformat_minor": 2
}
